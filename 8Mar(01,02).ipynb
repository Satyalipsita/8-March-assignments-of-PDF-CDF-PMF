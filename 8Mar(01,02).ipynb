{
 "cells": [
  {
   "cell_type": "code",
   "execution_count": null,
   "id": "6d0bd762-5a5b-4e65-9960-0e83b5fa9b8c",
   "metadata": {},
   "outputs": [],
   "source": [
    "Q-1:\n",
    "In probability theory and statistics, a probability distribution is \n",
    "the mathematical function that gives the probabilities of occurrence of \n",
    "different possible outcomes for an experiment.[1][2] It is a mathematical \n",
    "description of a random phenomenon in terms of its sample space and the probabilities of events \n",
    "(subsets of the sample space)."
   ]
  },
  {
   "cell_type": "code",
   "execution_count": null,
   "id": "c9cb504f-9e5d-4cd1-8409-c97a974eee7f",
   "metadata": {},
   "outputs": [],
   "source": [
    "Q-2:\n",
    "Types of probabilty distribution\n",
    " 1- Noramal/Gaussian distribution(PDF)\n",
    " 2- Bornouli's Distribution(PMF)\n",
    " 3- Uniform distribution(PMF)\n",
    " 4-Poison distribution(PMF)\n",
    " 5- Log normal Distribution(PDF)\n",
    " 6-Binomial Distribution   (PMF)"
   ]
  },
  {
   "cell_type": "code",
   "execution_count": null,
   "id": "4a3ebff9-8cdb-4d4d-a38d-e4139e111a87",
   "metadata": {},
   "outputs": [],
   "source": [
    "\n",
    "    "
   ]
  }
 ],
 "metadata": {
  "kernelspec": {
   "display_name": "Python 3 (ipykernel)",
   "language": "python",
   "name": "python3"
  },
  "language_info": {
   "codemirror_mode": {
    "name": "ipython",
    "version": 3
   },
   "file_extension": ".py",
   "mimetype": "text/x-python",
   "name": "python",
   "nbconvert_exporter": "python",
   "pygments_lexer": "ipython3",
   "version": "3.10.8"
  }
 },
 "nbformat": 4,
 "nbformat_minor": 5
}
