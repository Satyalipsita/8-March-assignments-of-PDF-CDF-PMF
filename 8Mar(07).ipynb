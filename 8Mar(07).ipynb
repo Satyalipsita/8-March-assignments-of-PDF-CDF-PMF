{
 "cells": [
  {
   "cell_type": "code",
   "execution_count": null,
   "id": "d14ff63f-ff66-4192-a595-ffe76d06ca6e",
   "metadata": {},
   "outputs": [],
   "source": [
    "The binomial and Poisson distributions are both discrete probability distributions, \n",
    "but they have different characteristics and are used to model different types of random events.\n",
    "\n",
    "The binomial distribution is used to model the probability of a certain number of successes \n",
    "in a fixed number of independent trials, where each trial has only two possible outcomes \n",
    "(usually denoted as success and failure). The binomial distribution has two parameters: \n",
    "the number of trials n and the probability of success p in each trial.\n",
    "The probability mass function (PMF) of the binomial distribution is:\n",
    "    #P(X = k) = (n choose k) * p^k * (1-p)^(n-k)\n",
    "where X is the random variable, k is the number of successes, n is the total number of trials, p is the probability of success in each trial, and (n choose k) is the binomial coefficient, which represents the number of ways to choose k successes from n trials.\n",
    "\n",
    "The Poisson distribution, on the other hand, is used to model the \n",
    "probability of a certain number of events occurring in a fixed interval of time or space, \n",
    "when the events occur independently of each other and the average rate of occurrence is known. \n",
    "The Poisson distribution has one parameter: the mean or average number of events λ in the interval.\n",
    "The probability mass function of the Poisson distribution is:\n",
    "    P(X = k) = e^(-λ) * λ^k / k!\n"
   ]
  }
 ],
 "metadata": {
  "kernelspec": {
   "display_name": "Python 3 (ipykernel)",
   "language": "python",
   "name": "python3"
  },
  "language_info": {
   "codemirror_mode": {
    "name": "ipython",
    "version": 3
   },
   "file_extension": ".py",
   "mimetype": "text/x-python",
   "name": "python",
   "nbconvert_exporter": "python",
   "pygments_lexer": "ipython3",
   "version": "3.10.8"
  }
 },
 "nbformat": 4,
 "nbformat_minor": 5
}
