{
 "cells": [
  {
   "cell_type": "code",
   "execution_count": null,
   "id": "934a26ee-94ac-4540-82fa-1a52f5b3dc27",
   "metadata": {},
   "outputs": [],
   "source": [
    "For Binomial Distribution:\n",
    "Mean = n * p\n",
    "Variance = n * p * (1 - p)\n",
    "where n is the number of trials and p is the probability of success in each trial. \n",
    "As you can see, the variance depends on both the number of trials and the probability of success. \n",
    "When the probability of success is low, the variance is smaller than the mean, and when \n",
    "the probability of success is high, the variance is larger than the mean. \n",
    "The variance reaches its maximum value when p = 0.5.\n",
    "\n",
    "For Poisson distribution:\n",
    "Mean = Variance = λ\n",
    "where λ is the average rate of occurrence. This means that the mean and variance are equal and depend only on the average rate of occurrence, and not on any other parameter.\n",
    "\n",
    "In summary, the relationship between mean and variance\n",
    "in the binomial distribution depends on the probability of success, \n",
    "while in the Poisson distribution, the mean and variance are always\n",
    "equal and depend only on the average rate of occurrence."
   ]
  }
 ],
 "metadata": {
  "kernelspec": {
   "display_name": "Python 3 (ipykernel)",
   "language": "python",
   "name": "python3"
  },
  "language_info": {
   "codemirror_mode": {
    "name": "ipython",
    "version": 3
   },
   "file_extension": ".py",
   "mimetype": "text/x-python",
   "name": "python",
   "nbconvert_exporter": "python",
   "pygments_lexer": "ipython3",
   "version": "3.10.8"
  }
 },
 "nbformat": 4,
 "nbformat_minor": 5
}
