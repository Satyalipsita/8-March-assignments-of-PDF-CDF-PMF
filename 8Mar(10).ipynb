{
 "cells": [
  {
   "cell_type": "code",
   "execution_count": null,
   "id": "efb6bbf6-c362-4de5-9cf5-ced57a2268a9",
   "metadata": {},
   "outputs": [],
   "source": [
    "In a normal distribution, the data values are spread out symmetrically around the mean,\n",
    "with most of the data clustered close to the mean and progressively fewer data points \n",
    "further away from the mean. However, there is no fixed location where the last data point \n",
    "will be found, as the normal distribution is continuous and extends infinitely in both directions.\n",
    "\n",
    "That being said, we can use the empirical rule (also known as the 68-95-99.7 rule) to\n",
    "make a rough estimate of the location of the last data point. According to this rule,\n",
    "in a normal distribution:\n",
    "\n",
    "Approximately 68% of the data falls within one standard deviation of the mean.\n",
    "Approximately 95% of the data falls within two standard deviations of the mean.\n",
    "Approximately 99.7% of the data falls within three standard deviations of the mean.\n",
    "Therefore, if we know the mean and standard deviation of a normally distributed dataset,\n",
    "we can estimate that the last data point will be located approximately 3 standard deviations \n",
    "away from the mean. However, it's important to note that this is just an estimate and the actual\n",
    "location of the last data point can vary widely depending on the specific characteristics of the dataset."
   ]
  }
 ],
 "metadata": {
  "kernelspec": {
   "display_name": "Python 3 (ipykernel)",
   "language": "python",
   "name": "python3"
  },
  "language_info": {
   "codemirror_mode": {
    "name": "ipython",
    "version": 3
   },
   "file_extension": ".py",
   "mimetype": "text/x-python",
   "name": "python",
   "nbconvert_exporter": "python",
   "pygments_lexer": "ipython3",
   "version": "3.10.8"
  }
 },
 "nbformat": 4,
 "nbformat_minor": 5
}
