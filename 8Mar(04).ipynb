{
 "cells": [
  {
   "cell_type": "code",
   "execution_count": null,
   "id": "1842b470-319e-47a2-87ee-ade02568a718",
   "metadata": {},
   "outputs": [],
   "source": [
    "Q-4:Properties of binomial distribution:\n",
    "    \n",
    "1-The Binomial Distribution\n",
    "2-The number of observations n is fixed.\n",
    "3-Each observation is independent.\n",
    "4-Each observation represents one of two outcomes (\"success\" or \"failure\").\n",
    "5-The probability of \"success\" p is the same for each outcome.\n",
    "\n",
    "   For example, if we toss a coin, there could be only two possible outcomes: heads or tails, \n",
    "   and if any test is taken, then there could be only two results: pass or fail. \n",
    "   This distribution is also called a binomial probability distribution.\n",
    "   There are two parameters n and p used here in a binomial distribution."
   ]
  },
  {
   "cell_type": "code",
   "execution_count": null,
   "id": "db32c7ce-e1f9-4899-8d8b-9e29ec89f0de",
   "metadata": {},
   "outputs": [],
   "source": []
  }
 ],
 "metadata": {
  "kernelspec": {
   "display_name": "Python 3 (ipykernel)",
   "language": "python",
   "name": "python3"
  },
  "language_info": {
   "codemirror_mode": {
    "name": "ipython",
    "version": 3
   },
   "file_extension": ".py",
   "mimetype": "text/x-python",
   "name": "python",
   "nbconvert_exporter": "python",
   "pygments_lexer": "ipython3",
   "version": "3.10.8"
  }
 },
 "nbformat": 4,
 "nbformat_minor": 5
}
